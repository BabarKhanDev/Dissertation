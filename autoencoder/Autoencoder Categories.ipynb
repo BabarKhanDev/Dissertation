{
 "cells": [
  {
   "cell_type": "code",
   "execution_count": 1,
   "id": "0c92c372",
   "metadata": {},
   "outputs": [],
   "source": [
    "# Import the required libraries\n",
    "\n",
    "import torch\n",
    "import os\n",
    "import torchvision.datasets as datasets\n",
    "from torch.utils.data import Dataset, DataLoader, random_split\n",
    "from torchvision import transforms\n",
    "from torch.nn.functional import interpolate\n",
    "import torch.nn as nn\n",
    "import math\n",
    "import numpy as np\n",
    "from natsort import natsorted\n",
    "from PIL import Image\n",
    "import pandas as pd\n",
    "import pickle\n",
    "import matplotlib.pyplot as plt"
   ]
  },
  {
   "cell_type": "code",
   "execution_count": 2,
   "id": "4513c62f",
   "metadata": {},
   "outputs": [
    {
     "name": "stdout",
     "output_type": "stream",
     "text": [
      "not on google colab\n"
     ]
    }
   ],
   "source": [
    "# Code to upload dataset to google colab\n",
    "try:\n",
    "    from google.colab import drive\n",
    "    drive.mount('/content/drive')\n",
    "\n",
    "    import zipfile\n",
    "\n",
    "    path_to_zip_file = 'drive/MyDrive/data.zip'\n",
    "    directory_to_extract_to = 'VISCHEMA_PLUS/'\n",
    "    with zipfile.ZipFile(path_to_zip_file, 'r') as zip_ref:\n",
    "        zip_ref.extractall(directory_to_extract_to)\n",
    "\n",
    "    !cp \"drive/MyDrive/viscplus_train.csv\" \"VISCHEMA_PLUS/\"\n",
    "    !cp \"drive/MyDrive/viscplus_val.csv\" \"VISCHEMA_PLUS/\"\n",
    "except:\n",
    "    print(\"not on google colab\")"
   ]
  },
  {
   "cell_type": "code",
   "execution_count": 46,
   "id": "b66699de",
   "metadata": {},
   "outputs": [],
   "source": [
    "# Dataset\n",
    "class VISCHEMA_PLUS(Dataset):\n",
    "    def __init__(self, dataset_dir = '../VISCHEMA_PLUS/', label_dir = '../VISCHEMA_PLUS/vms/', transform = None):\n",
    "        \n",
    "        all_images = pd.read_csv(f\"{dataset_dir}viscplus_val.csv\", header=None)\n",
    "        \n",
    "        self.transform = transform\n",
    "        self.label_dir = label_dir\n",
    "        self.all_images = natsorted(all_images[0])\n",
    "        self.dataset_dir = dataset_dir\n",
    "        \n",
    "    def __len__(self):\n",
    "        return len(self.all_images)\n",
    "\n",
    "    def __getitem__(self, idx):    \n",
    "        convert_tensor = transforms.ToTensor()\n",
    "        \n",
    "        with open(\"file_to_category.pkl\", \"rb\") as file:\n",
    "            file_to_cat = pickle.load(file)\n",
    "\n",
    "        image_category = file_to_cat[self.all_images[idx]]\n",
    "\n",
    "        image = Image.open(f\"{self.dataset_dir}images/{self.all_images[idx]}\").convert(\"RGB\")\n",
    "        image = convert_tensor(image)\n",
    "\n",
    "        label = Image.open(f\"{self.dataset_dir}vms/{self.all_images[idx]}\").convert(\"RGB\")\n",
    "        label = convert_tensor(label)\n",
    "        \n",
    "        if self.transform != None:\n",
    "            image = self.transform(image)\n",
    "            label = self.transform(label)\n",
    "            \n",
    "        return image, label, image_category"
   ]
  },
  {
   "cell_type": "code",
   "execution_count": 3,
   "id": "bde72fa0",
   "metadata": {},
   "outputs": [],
   "source": [
    "# UNET\n",
    "class Block(nn.Module):\n",
    "    def __init__(self, in_channels, out_channels, norm = True, norm_func = nn.InstanceNorm2d):\n",
    "        super().__init__()\n",
    "        if norm:\n",
    "            self.main = nn.Sequential(\n",
    "                nn.Conv2d(in_channels,out_channels,3,padding=1),\n",
    "                nn.ReLU(),\n",
    "                norm_func(out_channels),\n",
    "                nn.Conv2d(out_channels,out_channels,3,padding=1),\n",
    "                nn.ReLU(),\n",
    "                norm_func(out_channels),\n",
    "            )\n",
    "        else:\n",
    "            self.main = nn.Sequential(\n",
    "                nn.Conv2d(in_channels,out_channels,3,padding=1),\n",
    "                nn.ReLU(),\n",
    "                nn.Conv2d(out_channels,out_channels,3,padding=1),\n",
    "                nn.ReLU(),\n",
    "                norm_func(out_channels),\n",
    "            )\n",
    "    def forward(self, x):\n",
    "        return self.main(x)\n",
    "    \n",
    "class Encoder(nn.Module):\n",
    "    def __init__(self, channels=(3,64,128,256,512), norm_func = nn.InstanceNorm2d):\n",
    "        super().__init__()\n",
    "        self.encoding_blocks = nn.ModuleList(\n",
    "            [Block(channels[i], channels[i+1], norm = (i != 0), norm_func = norm_func) for i in range(len(channels)-1)]\n",
    "        )\n",
    "        self.pool = nn.MaxPool2d(2)\n",
    "    \n",
    "    def forward(self, x):\n",
    "        features = []\n",
    "        \n",
    "        for block in self.encoding_blocks:\n",
    "            x = block(x)\n",
    "            features.append(x)\n",
    "            x = self.pool(x)\n",
    "                 \n",
    "        return features\n",
    "        \n",
    "class Decoder(nn.Module):\n",
    "    def __init__(self, channels=(512,256,128,64), norm_func = nn.InstanceNorm2d):\n",
    "        super().__init__()\n",
    "        self.channels = channels\n",
    "        self.upconvs = nn.ModuleList([nn.ConvTranspose2d(self.channels[i], self.channels[i+1],2,2) for i in range(len(channels)-1)])\n",
    "        self.decoder_blocks = nn.ModuleList(\n",
    "            [Block(channels[i], channels[i+1], norm_func = norm_func) for i in range(len(channels)-1)]\n",
    "        )\n",
    "    \n",
    "    def forward(self, x, encoder_features):\n",
    "        for i in range(len(self.channels)-1):\n",
    "            x = self.upconvs[i](x)\n",
    "            features = self.crop(encoder_features[i], x)\n",
    "            x = torch.cat([x, features], dim=1)\n",
    "            x = self.decoder_blocks[i](x)\n",
    "        return x\n",
    "    \n",
    "    def crop(self, features, x):\n",
    "        _, _, height, width = x.shape\n",
    "        features = transforms.CenterCrop([height, width])(features)\n",
    "        return features\n",
    "        \n",
    "class Generator(nn.Module):\n",
    "    def __init__(self, \n",
    "                 encode_channels=(3,64,128,256,512,1024), \n",
    "                 decode_channels=(1024,512,256,128,64), \n",
    "                 num_class=3, \n",
    "                 retain_dim=True, \n",
    "                 output_size=(572,572),\n",
    "                 norm_func = nn.InstanceNorm2d):\n",
    "        \n",
    "        super(Generator, self).__init__()\n",
    "        \n",
    "        self.encoder = Encoder(encode_channels, norm_func = norm_func)\n",
    "        self.decoder = Decoder(decode_channels, norm_func = norm_func)\n",
    "        \n",
    "        self.head = nn.Conv2d(decode_channels[-1], num_class, 1)\n",
    "        \n",
    "        \"\"\"# Initialize weights\n",
    "        for m in self.modules():\n",
    "            if isinstance(m, nn.Conv2d):\n",
    "                nn.init.xavier_uniform_(m.weight)\n",
    "                if m.bias is not None:\n",
    "                    nn.init.constant_(m.bias, 0)\n",
    "            elif isinstance(m, nn.ConvTranspose2d):\n",
    "                nn.init.xavier_uniform_(m.weight)\n",
    "                if m.bias is not None:\n",
    "                    nn.init.constant_(m.bias, 0)\"\"\"\n",
    "\n",
    "    def forward(self, x):\n",
    "        \n",
    "        encoding_features = self.encoder(x)\n",
    "        decoding_features = self.decoder(encoding_features[::-1][0], encoding_features[::-1][1:])\n",
    "        output = self.head(decoding_features)\n",
    "        output = nn.Tanh()(output)\n",
    "        \n",
    "        return output"
   ]
  },
  {
   "cell_type": "code",
   "execution_count": 47,
   "id": "e853447d",
   "metadata": {},
   "outputs": [
    {
     "name": "stdout",
     "output_type": "stream",
     "text": [
      "320  Items in val dataset\n",
      "31031875 Parameters in UNet\n"
     ]
    }
   ],
   "source": [
    "# Set up our training environment\n",
    "\n",
    "# Dataloaders\n",
    "image_transforms = transforms.Compose([\n",
    "    transforms.Resize(128, antialias=True),\n",
    "    transforms.Normalize(0.5,0.5)\n",
    "])\n",
    "\n",
    "val_dataset   = VISCHEMA_PLUS(transform = image_transforms)\n",
    "val_loader   = DataLoader(dataset = val_dataset,   batch_size = 1, shuffle=True)\n",
    "print(f'{len(val_dataset)}  Items in val dataset')\n",
    "\n",
    "# Network\n",
    "device = torch.device(\"cuda\" if torch.cuda.is_available() else \"cpu\")\n",
    "model = Generator().to(device)\n",
    "model.load_state_dict(torch.load(\"checkpoints/run2/best_weights.pkl\"))\n",
    "\n",
    "total_params = sum(p.numel() for p in model.parameters() if p.requires_grad)\n",
    "print(f'{total_params} Parameters in UNet')"
   ]
  },
  {
   "cell_type": "code",
   "execution_count": 53,
   "id": "a050268c",
   "metadata": {},
   "outputs": [
    {
     "name": "stdout",
     "output_type": "stream",
     "text": [
      "Starting Validation\n"
     ]
    },
    {
     "name": "stderr",
     "output_type": "stream",
     "text": [
      "100%|██████████| 320/320 [00:09<00:00, 32.77it/s]\n"
     ]
    }
   ],
   "source": [
    "# Validation Loop\n",
    "from tqdm import tqdm\n",
    "print('Starting Validation')\n",
    "\n",
    "category_losses = {} # Logging\n",
    "total_loss = 0\n",
    "loss_func = torch.nn.L1Loss()\n",
    "\n",
    "def blackout_tensor(image):\n",
    "\n",
    "    output = torch.clone(image)\n",
    "    output[:,1] *= 0\n",
    "    output[:,1] -= 1\n",
    "    output[:,2] *= 0\n",
    "    output[:,2] -= 1  \n",
    "\n",
    "    return output\n",
    "\n",
    "model.eval()\n",
    "with torch.no_grad():\n",
    "    for image, label, cat in tqdm(val_loader):\n",
    "\n",
    "        # Move images to device and create prediction\n",
    "        image, label = image.to(device), label.to(device)\n",
    "        output = model(image)\n",
    "\n",
    "        #Evaluate the loss\n",
    "        loss = loss_func(blackout_tensor(output),blackout_tensor(label))\n",
    "        \n",
    "        total_loss += loss.item()\n",
    "\n",
    "        if cat[0] in category_losses:\n",
    "            category_losses[cat[0]] += [loss.item()]\n",
    "        else:\n",
    "            category_losses[cat[0]] = [loss.item()]\n",
    "        \n",
    "        del image, label, output, cat\n",
    "        torch.cuda.empty_cache()\n"
   ]
  },
  {
   "cell_type": "code",
   "execution_count": 54,
   "id": "f823076c",
   "metadata": {},
   "outputs": [
    {
     "name": "stdout",
     "output_type": "stream",
     "text": [
      "big 0.02661177253771928\n",
      "conference_room 0.08101891614274964\n",
      "isolated 0.04759527736014741\n",
      "populated 0.012266142385717677\n",
      "playground 0.059464691689104905\n",
      "kitchen 0.044463653315324335\n",
      "small 0.02879853359742188\n",
      "airport_terminal 0.07187960795617025\n",
      "golf_course 0.055669605696144014\n",
      "mountain 0.07916211329367277\n",
      "public-entertainment 0.030252949539793746\n",
      "work-home 0.03769531178598603\n",
      "living room 0.013748132804175838\n",
      "living_room 0.04000693766283803\n",
      "skyscraper 0.12765768594108523\n",
      "badlands 0.09822849246362846\n",
      "house 0.037173117091879246\n",
      "amusement_park 0.05981842910599274\n",
      "pasture 0.04287697393738199\n",
      "Average loss: 0.047803090693923876\n"
     ]
    }
   ],
   "source": [
    "for key in category_losses.keys():\n",
    "    category_losses[key] = np.mean(category_losses[key])\n",
    "    print(key, category_losses[key])\n",
    "\n",
    "print(f\"Average loss: {total_loss/len(val_loader)}\")"
   ]
  },
  {
   "cell_type": "code",
   "execution_count": 52,
   "id": "808ea82d",
   "metadata": {},
   "outputs": [
    {
     "name": "stdout",
     "output_type": "stream",
     "text": [
      "Mean loss: 0.13992937144671244\n",
      "STD of losses: 0.051684013454625026\n"
     ]
    }
   ],
   "source": [
    "print(f\"Mean loss: {np.mean(list(category_losses.values()))}\")\n",
    "print(f\"STD of losses: {np.std(list(category_losses.values()))}\")"
   ]
  },
  {
   "cell_type": "code",
   "execution_count": 33,
   "id": "faef6220",
   "metadata": {},
   "outputs": [
    {
     "name": "stderr",
     "output_type": "stream",
     "text": [
      "Clipping input data to the valid range for imshow with RGB data ([0..1] for floats or [0..255] for integers).\n"
     ]
    },
    {
     "name": "stdout",
     "output_type": "stream",
     "text": [
      "torch.Size([1, 3, 128, 128])\n",
      "torch.Size([1, 3, 128, 128])\n",
      "torch.Size([1, 3, 128, 128])\n",
      "torch.Size([1, 3, 128, 128])\n",
      "torch.Size([1, 3, 128, 128])\n",
      "torch.Size([1, 3, 128, 128])\n",
      "torch.Size([1, 3, 128, 128])\n",
      "torch.Size([1, 3, 128, 128])\n",
      "torch.Size([1, 3, 128, 128])\n",
      "torch.Size([1, 3, 128, 128])\n"
     ]
    },
    {
     "data": {
      "image/png": "[encoded data removed]",
      "text/plain": [
       "<Figure size 500x500 with 2 Axes>"
      ]
     },
     "metadata": {},
     "output_type": "display_data"
    }
   ],
   "source": [
    "import matplotlib.pyplot as plt\n",
    "\n",
    "figure = plt.figure(figsize=(5,5))\n",
    "cols, rows = 2, 2\n",
    "\n",
    "for i in range(rows):\n",
    "\n",
    "    images, labels, _ = next(iter(val_loader))\n",
    "    images= images.to(device)\n",
    "    output = model(images)\n",
    "\n",
    "    label_green = torch.clone(labels)\n",
    "    label_green[:,0] *= 0\n",
    "    label_green[:,0] -= 1\n",
    "    label_green[:,2] *= 0\n",
    "    label_green[:,2] -= 1\n",
    "\n",
    "    output_green = torch.clone(output)\n",
    "    output_green[:,0] *= 0\n",
    "    output_green[:,0] -= 1\n",
    "    output_green[:,2] *= 0\n",
    "    output_green[:,2] -= 1  \n",
    "\n",
    "    print(images.size())\n",
    "    print(labels.size())\n",
    "    print(output.size())\n",
    "    print(label_green.size())\n",
    "    print(output_green.size())\n",
    "\n",
    "    display = torch.cat([images.to(\"cpu\"), labels, label_green, output.to(\"cpu\").detach(), output_green.to(\"cpu\").detach()], dim=3)\n",
    "\n",
    "    figure.add_subplot(rows, cols, i+1)\n",
    "    plt.axis(\"off\")\n",
    "    plt.imshow((display[0].squeeze().permute(1, 2, 0) +1 )/2 )\n",
    "\n",
    "    \n",
    "plt.tight_layout()\n",
    "plt.show()"
   ]
  }
 ],
 "metadata": {
  "kernelspec": {
   "display_name": "Python 3",
   "language": "python",
   "name": "python3"
  },
  "language_info": {
   "codemirror_mode": {
    "name": "ipython",
    "version": 3
   },
   "file_extension": ".py",
   "mimetype": "text/x-python",
   "name": "python",
   "nbconvert_exporter": "python",
   "pygments_lexer": "ipython3",
   "version": "3.11.2"
  },
  "vscode": {
   "interpreter": {
    "hash": "767d51c1340bd893661ea55ea3124f6de3c7a262a8b4abca0554b478b1e2ff90"
   }
  }
 },
 "nbformat": 4,
 "nbformat_minor": 5
}
